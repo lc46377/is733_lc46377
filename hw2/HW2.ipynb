{
 "cells": [
  {
   "cell_type": "markdown",
   "id": "0c79a323-c83c-4c08-88da-f371740504d7",
   "metadata": {},
   "source": [
    "# Part 3: Wine-Tasting Machine."
   ]
  },
  {
   "cell_type": "markdown",
   "id": "fc26294c-f344-4267-9365-c8c67832b02e",
   "metadata": {},
   "source": [
    "## Step 3.1: Data Preparation"
   ]
  },
  {
   "cell_type": "code",
   "execution_count": 108,
   "id": "cb59539f-3ce4-4c7a-930d-8e0d922fb3a7",
   "metadata": {},
   "outputs": [],
   "source": [
    "%matplotlib inline\n"
   ]
  },
  {
   "cell_type": "code",
   "execution_count": 109,
   "id": "83c17669-6a65-4665-8dc0-b20e6fc0a3cd",
   "metadata": {},
   "outputs": [
    {
     "name": "stderr",
     "output_type": "stream",
     "text": [
      "100%|██████████| 4/4 [00:00<00:00, 50840.05it/s], ?it/s, Describe variable: type]       \n",
      "Summarize dataset: 100%|██████████| 22/22 [00:00<00:00, 42.60it/s, Completed]                       \n",
      "Generate report structure: 100%|██████████| 1/1 [00:00<00:00,  3.46it/s]\n",
      "Render HTML: 100%|██████████| 1/1 [00:00<00:00,  8.36it/s]\n",
      "Export report to file: 100%|██████████| 1/1 [00:00<00:00, 608.40it/s]"
     ]
    },
    {
     "name": "stdout",
     "output_type": "stream",
     "text": [
      "   citric acid  sulphates  alcohol  type\n",
      "0         0.49       0.63      8.0   low\n",
      "1         0.66       0.57      8.3   low\n",
      "2         0.23       0.44      8.5  high\n",
      "3         0.44       0.84      8.6   low\n",
      "4         0.08       0.50      8.7   low\n",
      "<class 'pandas.core.frame.DataFrame'>\n",
      "RangeIndex: 571 entries, 0 to 570\n",
      "Data columns (total 4 columns):\n",
      " #   Column       Non-Null Count  Dtype  \n",
      "---  ------       --------------  -----  \n",
      " 0   citric acid  571 non-null    float64\n",
      " 1   sulphates    571 non-null    float64\n",
      " 2   alcohol      571 non-null    float64\n",
      " 3   type         571 non-null    object \n",
      "dtypes: float64(3), object(1)\n",
      "memory usage: 18.0+ KB\n",
      "None\n",
      "       citric acid   sulphates     alcohol\n",
      "count   571.000000  571.000000  571.000000\n",
      "mean      0.324676    0.588161   10.776883\n",
      "std       0.175103    0.188478    1.092562\n",
      "min       0.000000    0.250000    8.000000\n",
      "25%       0.240000    0.450000    9.900000\n",
      "50%       0.330000    0.570000   10.800000\n",
      "75%       0.440000    0.710000   11.600000\n",
      "max       1.000000    2.000000   12.800000\n"
     ]
    },
    {
     "name": "stderr",
     "output_type": "stream",
     "text": [
      "\n"
     ]
    }
   ],
   "source": [
    "import pandas as pd\n",
    "from ydata_profiling import ProfileReport\n",
    "\n",
    "# Load red wine data\n",
    "red_wine = pd.read_csv(\"./red_wine.csv\")\n",
    "\n",
    "# Generate a profile report\n",
    "profile = ProfileReport(red_wine, title=\"Red Wine Data Report\")\n",
    "profile.to_file(\"Red_Wine_Data_Profile.html\")\n",
    "\n",
    "# Display basic information about the dataset\n",
    "print(red_wine.head())\n",
    "print(red_wine.info())\n",
    "print(red_wine.describe())\n"
   ]
  },
  {
   "cell_type": "markdown",
   "id": "c04da338-93a2-47f8-8858-bddca8a828b9",
   "metadata": {},
   "source": [
    "## Step 3.2: Model Training and Evaluation"
   ]
  },
  {
   "cell_type": "markdown",
   "id": "339e6f3c-0a17-4708-815d-a6ef686dfe6d",
   "metadata": {},
   "source": [
    "### Step 3.2.1: Define Models and Perform Cross-Validation"
   ]
  },
  {
   "cell_type": "code",
   "execution_count": 110,
   "id": "412f90ec",
   "metadata": {},
   "outputs": [
    {
     "name": "stdout",
     "output_type": "stream",
     "text": [
      "Baseline Accuracy: 0.5289\n",
      "Baseline AUC: 0.5000\n"
     ]
    }
   ],
   "source": [
    "from sklearn.dummy import DummyClassifier\n",
    "from sklearn.model_selection import cross_val_score\n",
    "\n",
    "# Separate features and target\n",
    "X = red_wine.drop(\"type\", axis=1)\n",
    "y = (red_wine[\"type\"] == \"high\").astype(int)  # Convert to binary: 1 = high, 0 = low\n",
    "\n",
    "# Create and evaluate DummyClassifier\n",
    "dummy = DummyClassifier(strategy=\"most_frequent\")\n",
    "baseline_acc = cross_val_score(dummy, X, y, cv=10, scoring=\"accuracy\").mean()\n",
    "baseline_auc = cross_val_score(dummy, X, y, cv=10, scoring=\"roc_auc\").mean()\n",
    "\n",
    "print(f\"Baseline Accuracy: {baseline_acc:.4f}\")\n",
    "print(f\"Baseline AUC: {baseline_auc:.4f}\")\n"
   ]
  },
  {
   "cell_type": "code",
   "execution_count": 111,
   "id": "68dcd450-dc66-43ff-91fc-4369bd374a5b",
   "metadata": {},
   "outputs": [],
   "source": [
    "# Import Necessary Libraries\n",
    "from sklearn.model_selection import cross_val_score\n",
    "from sklearn.linear_model import LogisticRegression\n",
    "from sklearn.naive_bayes import GaussianNB\n",
    "from sklearn.tree import DecisionTreeClassifier\n",
    "from sklearn.svm import SVC\n",
    "from sklearn.ensemble import RandomForestClassifier\n"
   ]
  },
  {
   "cell_type": "code",
   "execution_count": 112,
   "id": "7e468c01-7eca-4e7e-a3dd-cc53d80cd321",
   "metadata": {},
   "outputs": [],
   "source": [
    "# Prepare Data for Training\n",
    "# Define features and target\n",
    "X = red_wine.drop(columns=['type'])\n",
    "y = red_wine['type'] \n"
   ]
  },
  {
   "cell_type": "code",
   "execution_count": 113,
   "id": "0dc18576-c21e-45ca-9814-8f2050a303a9",
   "metadata": {},
   "outputs": [],
   "source": [
    "# Logistic Regression\n",
    "model_lr = LogisticRegression(max_iter=1000)\n",
    "lr_accuracy = cross_val_score(model_lr, X, y, cv=10, scoring='accuracy').mean()\n",
    "lr_auc = cross_val_score(model_lr, X, y, cv=10, scoring='roc_auc').mean()\n"
   ]
  },
  {
   "cell_type": "code",
   "execution_count": 114,
   "id": "54fe1c55-1278-4caa-baa4-c9f06d0a4d2b",
   "metadata": {},
   "outputs": [],
   "source": [
    "# Naive Bayes\n",
    "model_nb = GaussianNB()\n",
    "nb_accuracy = cross_val_score(model_nb, X, y, cv=10, scoring='accuracy').mean()\n",
    "nb_auc = cross_val_score(model_nb, X, y, cv=10, scoring='roc_auc').mean()\n"
   ]
  },
  {
   "cell_type": "code",
   "execution_count": 115,
   "id": "b6d819ba-70ef-4b35-b9e1-e79e8bdb46bd",
   "metadata": {},
   "outputs": [],
   "source": [
    "# Decision Tree\n",
    "model_dt = DecisionTreeClassifier()\n",
    "dt_accuracy = cross_val_score(model_dt, X, y, cv=10, scoring='accuracy').mean()\n",
    "dt_auc = cross_val_score(model_dt, X, y, cv=10, scoring='roc_auc').mean()"
   ]
  },
  {
   "cell_type": "code",
   "execution_count": 116,
   "id": "e644a713-56eb-410a-9994-96ca28766859",
   "metadata": {},
   "outputs": [],
   "source": [
    "# SVM (Linear)\n",
    "model_svm_linear = SVC(kernel='linear', probability=True)\n",
    "svm_linear_accuracy = cross_val_score(model_svm_linear, X, y, cv=10, scoring='accuracy').mean()\n",
    "svm_linear_auc = cross_val_score(model_svm_linear, X, y, cv=10, scoring='roc_auc').mean()\n"
   ]
  },
  {
   "cell_type": "code",
   "execution_count": 117,
   "id": "3b42f4bf-d681-4a2b-9c2a-7f329b065600",
   "metadata": {},
   "outputs": [],
   "source": [
    "# SVM (RBF)\n",
    "model_svm_rbf = SVC(kernel='rbf', probability=True)\n",
    "svm_rbf_accuracy = cross_val_score(model_svm_rbf, X, y, cv=10, scoring='accuracy').mean()\n",
    "svm_rbf_auc = cross_val_score(model_svm_rbf, X, y, cv=10, scoring='roc_auc').mean()\n"
   ]
  },
  {
   "cell_type": "code",
   "execution_count": 118,
   "id": "88eee582-27d2-4c21-a40d-7e9ab927b9a9",
   "metadata": {},
   "outputs": [],
   "source": [
    "# Random Forest\n",
    "model_rf = RandomForestClassifier()\n",
    "rf_accuracy = cross_val_score(model_rf, X, y, cv=10, scoring='accuracy').mean()\n",
    "rf_auc = cross_val_score(model_rf, X, y, cv=10, scoring='roc_auc').mean()\n"
   ]
  },
  {
   "cell_type": "markdown",
   "id": "cbb1a60d-7d15-4090-9050-3489104e9d32",
   "metadata": {},
   "source": [
    "#### Print the Results"
   ]
  },
  {
   "cell_type": "code",
   "execution_count": 119,
   "id": "c74b91d9-12bf-4ab3-9ff5-4e89ef64eb2f",
   "metadata": {},
   "outputs": [
    {
     "name": "stdout",
     "output_type": "stream",
     "text": [
      "Logistic Regression - Accuracy: 0.7847852389594676, AUC: 0.8799019697944429\n",
      "Naive Bayes - Accuracy: 0.8216273442226255, AUC: 0.8954078975584352\n",
      "Decision Tree - Accuracy: 0.7444948578342407, AUC: 0.7581035750390589\n",
      "SVM (Linear) - Accuracy: 0.7918632788868724, AUC: 0.8814885274025059\n",
      "SVM (RBF) - Accuracy: 0.5358439201451907, AUC: 0.8689201360169102\n",
      "Random Forest - Accuracy: 0.8005444646098002, AUC: 0.896697760622492\n"
     ]
    }
   ],
   "source": [
    "print(f\"Logistic Regression - Accuracy: {lr_accuracy}, AUC: {lr_auc}\")\n",
    "print(f\"Naive Bayes - Accuracy: {nb_accuracy}, AUC: {nb_auc}\")\n",
    "print(f\"Decision Tree - Accuracy: {dt_accuracy}, AUC: {dt_auc}\")\n",
    "print(f\"SVM (Linear) - Accuracy: {svm_linear_accuracy}, AUC: {svm_linear_auc}\")\n",
    "print(f\"SVM (RBF) - Accuracy: {svm_rbf_accuracy}, AUC: {svm_rbf_auc}\")\n",
    "print(f\"Random Forest - Accuracy: {rf_accuracy}, AUC: {rf_auc}\")\n"
   ]
  },
  {
   "cell_type": "markdown",
   "id": "e9a975f6-c0b6-4222-9c27-b00b815b6842",
   "metadata": {},
   "source": [
    "### Step 3.3: Plot the ROC Curve for Random Forest"
   ]
  },
  {
   "cell_type": "code",
   "execution_count": 120,
   "id": "b1f49c77-e8a4-48cf-b5ed-0b0112dd1a19",
   "metadata": {},
   "outputs": [],
   "source": [
    "# Convert 'high' and 'low' labels to binary values\n",
    "y = y.map({'high': 1, 'low': 0})"
   ]
  },
  {
   "cell_type": "code",
   "execution_count": 121,
   "id": "64c8d9e9-7b90-4f05-8b43-3e81d61ba2bf",
   "metadata": {},
   "outputs": [
    {
     "data": {
      "image/png": "[encoded data removed]",
      "text/plain": [
       "<Figure size 640x480 with 1 Axes>"
      ]
     },
     "metadata": {},
     "output_type": "display_data"
    }
   ],
   "source": [
    "from sklearn.metrics import roc_curve, roc_auc_score\n",
    "import matplotlib.pyplot as plt\n",
    "\n",
    "# Fit Random Forest on the whole dataset\n",
    "model_rf.fit(X, y)\n",
    "y_pred_proba = model_rf.predict_proba(X)[:, 1]\n",
    "\n",
    "# Calculate ROC curve\n",
    "fpr, tpr, _ = roc_curve(y, y_pred_proba, pos_label=1)\n",
    "plt.plot(fpr, tpr, label='Random Forest')\n",
    "plt.xlabel('False Positive Rate')\n",
    "plt.ylabel('True Positive Rate')\n",
    "plt.title('ROC Curve for Random Forest')\n",
    "plt.legend()\n",
    "plt.show()"
   ]
  },
  {
   "cell_type": "markdown",
   "id": "e42d1518-2ccd-40b4-bad7-7eb2e9a490bc",
   "metadata": {},
   "source": [
    "### Step 3.4: Evaluate on White Wine Data"
   ]
  },
  {
   "cell_type": "code",
   "execution_count": 122,
   "id": "9a65fc98-3ce4-4f89-95a9-fda0bf0eb58e",
   "metadata": {},
   "outputs": [
    {
     "name": "stdout",
     "output_type": "stream",
     "text": [
      "AUC on White Wine Data: 0.95\n"
     ]
    }
   ],
   "source": [
    "# Load white wine data\n",
    "white_wine = pd.read_csv(\"./white_Wine.csv\")\n",
    "X_white = white_wine.drop(columns=['type']) \n",
    "y_white = white_wine['type']  \n",
    "\n",
    "white_auc = cross_val_score(model_nb, X_white, y_white, cv=10, scoring='roc_auc').mean()\n",
    "print(\"AUC on White Wine Data:\", white_auc)"
   ]
  }
 ],
 "metadata": {
  "kernelspec": {
   "display_name": ".myenv",
   "language": "python",
   "name": "python3"
  },
  "language_info": {
   "codemirror_mode": {
    "name": "ipython",
    "version": 3
   },
   "file_extension": ".py",
   "mimetype": "text/x-python",
   "name": "python",
   "nbconvert_exporter": "python",
   "pygments_lexer": "ipython3",
   "version": "3.11.11"
  },
  "vscode": {
   "interpreter": {
    "hash": "2257b3603698a8f7cc4cbf76939f1865767a98051133b0490411b3e8b9357dd4"
   }
  }
 },
 "nbformat": 4,
 "nbformat_minor": 5
}
